{
 "cells": [
  {
   "cell_type": "markdown",
   "metadata": {},
   "source": [
    "# 🏠 Real Estate estimator"
   ]
  },
  {
   "cell_type": "markdown",
   "metadata": {},
   "source": [
    "🎯In the following challenge, we will try to figure out whether there exists a ***LINEAR RELATIONSHIP*** between :\n",
    "- the **price** of a flat (our **target** for each flat)\n",
    "- and some usual **features** such as like surface area, bedrooms, etc..."
   ]
  },
  {
   "cell_type": "markdown",
   "metadata": {},
   "source": [
    "❗️ Pandas is forbidden in this challenge ❗️\n",
    "\n",
    "😁 Welcome to the [NumPy documentation](https://docs.scipy.org/doc/numpy/reference/) which will be your friend throughout this exercise.\n",
    "\n",
    "👉 You can also find help on this [NumPy cheatsheet](https://s3.amazonaws.com/assets.datacamp.com/blog_assets/Numpy_Python_Cheat_Sheet.pdf)"
   ]
  },
  {
   "cell_type": "code",
   "execution_count": 1,
   "metadata": {
    "execution": {
     "iopub.execute_input": "2025-04-24T09:46:57.694311Z",
     "iopub.status.busy": "2025-04-24T09:46:57.693814Z",
     "iopub.status.idle": "2025-04-24T09:46:57.991367Z",
     "shell.execute_reply": "2025-04-24T09:46:57.990043Z",
     "shell.execute_reply.started": "2025-04-24T09:46:57.694271Z"
    }
   },
   "outputs": [],
   "source": [
    "import numpy as np\n"
   ]
  },
  {
   "attachments": {},
   "cell_type": "markdown",
   "metadata": {},
   "source": [
    "🌆 Suppose that we were able to collect data for 4 flats down below: \n",
    "- their **features**:\n",
    "    - `surface` (square feet)\n",
    "    - `bedrooms`\n",
    "    - `floors` \n",
    "- their **target**:\n",
    "    - `price` (in thousands of USD)\n",
    "\n",
    "|flats |surface (square feet)|bedrooms|floors|price (k USD)|\n",
    "|------|-------------|--------|------|------------|\n",
    "|flat1 |620|1|1|244|\n",
    "|flat2 |3280|4|2|671|\n",
    "|flat3 |1900|2|2|504|\n",
    "|flat4 |1320|3|3|510|\n",
    "\n",
    "👉 A first approach to **predict the price of an apartment** is to try to **find a linear relationship between the  target and the features** (*i.e. between the price and the (surface, bedrooms, floor)*), by solving the following **system of $n = 4$ linear equations with $p = 4$ unknown variables**: \n",
    "\n",
    "\n",
    "\n",
    "$$\\begin{cases}\n",
    "    244 = \\theta_0 + 620\\theta_1 + 1\\theta_2 + 1\\theta_3 \\\\\n",
    "    671 = \\theta_0 + 3280\\theta_1 + 4\\theta_2 + 2\\theta_3 \\\\\n",
    "    504 = \\theta_0 + 1900\\theta_1 + 2\\theta_2 + 2\\theta_3 \\\\\n",
    "    510 = \\theta_0 + 1320\\theta_1 + 3\\theta_2 + 3\\theta_3 \\\\\n",
    "\\end{cases}$$\n",
    "\n",
    "which can be translated into a matricial equation:\n",
    "\n",
    "$$\\boldsymbol y = \\boldsymbol {X \\cdot \\theta}$$\n",
    "\n",
    "$$\\begin{bmatrix}\n",
    "    244 \\\\\n",
    "    671 \\\\\n",
    "    504 \\\\\n",
    "    510\n",
    "\\end{bmatrix}_{4 \\times 1} = \\begin{bmatrix}\n",
    "    1 & 620 & 1 & 1 \\\\\n",
    "    1 & 3280 & 4 & 2 \\\\\n",
    "    1 & 1900 & 2 & 2 \\\\\n",
    "    1 & 1320 & 3 & 3\n",
    "\\end{bmatrix}_{4 \\times 4} \\begin{bmatrix}\n",
    "    \\theta_0 \\\\\n",
    "    \\theta_1 \\\\\n",
    "    \\theta_2 \\\\\n",
    "    \\theta_3\n",
    "\\end{bmatrix}_{4 \\times 1}$$\n",
    "\n",
    "where :\n",
    "* $\\boldsymbol y$ is the **`target`**, the vector of `Price`\n",
    "* $\\boldsymbol X$ represents the **`matrix of features`**\n",
    "* $\\boldsymbol {\\theta} = \\begin{bmatrix}\n",
    "    \\theta_0 \\\\\n",
    "    \\theta_1 \\\\\n",
    "    \\theta_2 \\\\\n",
    "    \\theta_3\n",
    "\\end{bmatrix}$ (*theta*) is the vector of **coefficients/variables/unknowns** to be found\n",
    "\n",
    "----\n",
    "\n",
    "🤓 Here, we are using the Greek letter `theta` $\\boldsymbol \\theta = \\begin{bmatrix}\n",
    "    \\theta_0 \\\\\n",
    "    \\theta_1 \\\\\n",
    "    \\theta_2 \\\\\n",
    "    \\theta_3 \\\\\n",
    "\\end{bmatrix}$, to represent the coefficients of our **features**:\n",
    "\n",
    "- A flat with no surface, no bedroom and no floor would cost $\\theta_0$\n",
    "- An increase of one square foot - *holding the number of bedrooms and the floor number constant* -  would increase the price by $\\theta_1$ thousand USD\n",
    "- An additional bedroom - *holding the surface and the floor number constant* -   would increase the price by $\\theta_2$ thousand USD\n",
    "- An increase of one floor number - *holding the surface and the number of bedrooms constant* - would increase the price by $\\theta_3$ thousand USD\n",
    "\n",
    "----\n",
    "\n",
    "😉 If we manage to solve this system of linear equations (i.e. if we find $\\theta_0$, $\\theta_1$, $\\theta_2$, $\\theta_3$), the price of any new flat could be estimated using the following formula: $$y_{newflat} = \\boldsymbol x_{newflat} \\cdot \\boldsymbol \\theta$$"
   ]
  },
  {
   "cell_type": "code",
   "execution_count": null,
   "metadata": {},
   "outputs": [],
   "source": []
  },
  {
   "cell_type": "markdown",
   "metadata": {},
   "source": [
    "## (1) Define the matrix $\\boldsymbol X$ of `features`:"
   ]
  },
  {
   "cell_type": "markdown",
   "metadata": {},
   "source": [
    "❓ Create a $(4,3)$ `numpy.ndarray` storing the values of the 3 features (surface, bedrooms, floors) for the 4 observations. "
   ]
  },
  {
   "cell_type": "code",
   "execution_count": 2,
   "metadata": {
    "execution": {
     "iopub.execute_input": "2025-04-24T09:46:57.994583Z",
     "iopub.status.busy": "2025-04-24T09:46:57.994268Z",
     "iopub.status.idle": "2025-04-24T09:46:58.001672Z",
     "shell.execute_reply": "2025-04-24T09:46:58.000477Z",
     "shell.execute_reply.started": "2025-04-24T09:46:57.994560Z"
    },
    "tags": [
     "challengify"
    ]
   },
   "outputs": [
    {
     "name": "stdout",
     "output_type": "stream",
     "text": [
      "[[ 620    1    1]\n",
      " [3280    4    2]\n",
      " [1900    2    2]\n",
      " [1320    3    3]]\n"
     ]
    }
   ],
   "source": [
    "# Create the 4x3 matrix of features\n",
    "X_features = np.array([\n",
    "    [620, 1, 1],\n",
    "    [3280, 4, 2],\n",
    "    [1900, 2, 2],\n",
    "    [1320, 3, 3]\n",
    "])\n",
    "\n",
    "print(X_features)\n"
   ]
  },
  {
   "cell_type": "markdown",
   "metadata": {},
   "source": [
    "❓ Double-check the ***shape***, the ***size*** and the ***dim*** of this ***np.array***"
   ]
  },
  {
   "cell_type": "code",
   "execution_count": 3,
   "metadata": {
    "execution": {
     "iopub.execute_input": "2025-04-24T09:46:58.003571Z",
     "iopub.status.busy": "2025-04-24T09:46:58.003123Z",
     "iopub.status.idle": "2025-04-24T09:46:58.013629Z",
     "shell.execute_reply": "2025-04-24T09:46:58.011789Z",
     "shell.execute_reply.started": "2025-04-24T09:46:58.003532Z"
    },
    "tags": [
     "challengify"
    ]
   },
   "outputs": [
    {
     "name": "stdout",
     "output_type": "stream",
     "text": [
      "Shape: (4, 3)\n",
      "Size: 12\n",
      "Dimensions: 2\n"
     ]
    }
   ],
   "source": [
    "print(\"Shape:\", X_features.shape)      \n",
    "print(\"Size:\", X_features.size)        \n",
    "print(\"Dimensions:\", X_features.ndim)"
   ]
  },
  {
   "cell_type": "markdown",
   "metadata": {},
   "source": [
    "❓Add a \"constant\" vector of ones $ = \\begin{bmatrix}\n",
    "    1 \\\\\n",
    "    1 \\\\\n",
    "    1 \\\\\n",
    "    1 \\\\\n",
    "\\end{bmatrix}$ to create the $(4,4)$ matrix $\\boldsymbol X$ representing the linear system of equations\n",
    "\n",
    "<details>\n",
    "    <summary><i>Explanations</i></summary>\n",
    "\n",
    "🤔 As you've probably noticed, the linear system of equations includes a $\\theta_0$ coefficient which appears in the 4 equations. \n",
    "\n",
    "❗️ We need an additional feature to represent the y-intercept of the linear regression line \n",
    "\n",
    "_Note_ : we talk about an [affine relation](https://math.stackexchange.com/questions/275310/what-is-the-difference-between-linear-and-affine-function) rather than a strict linear relation between the `price` and the features (_Cf. Decision Science Module_)\n",
    "    \n",
    "    \n",
    "</details>"
   ]
  },
  {
   "cell_type": "code",
   "execution_count": 4,
   "metadata": {
    "execution": {
     "iopub.execute_input": "2025-04-24T09:46:58.016179Z",
     "iopub.status.busy": "2025-04-24T09:46:58.015568Z",
     "iopub.status.idle": "2025-04-24T09:46:58.030289Z",
     "shell.execute_reply": "2025-04-24T09:46:58.028419Z",
     "shell.execute_reply.started": "2025-04-24T09:46:58.016117Z"
    }
   },
   "outputs": [
    {
     "name": "stdout",
     "output_type": "stream",
     "text": [
      "[[1]\n",
      " [1]\n",
      " [1]\n",
      " [1]]\n"
     ]
    }
   ],
   "source": [
    "# Define x0 as a (4,1) vector filled with 1 with the fastest NumPy method\n",
    "\n",
    "x0 = np.ones((4,1), dtype = \"int\" )\n",
    "print(x0)\n"
   ]
  },
  {
   "cell_type": "code",
   "execution_count": 5,
   "metadata": {
    "execution": {
     "iopub.execute_input": "2025-04-24T09:46:58.036096Z",
     "iopub.status.busy": "2025-04-24T09:46:58.034696Z",
     "iopub.status.idle": "2025-04-24T09:46:58.044282Z",
     "shell.execute_reply": "2025-04-24T09:46:58.042525Z",
     "shell.execute_reply.started": "2025-04-24T09:46:58.036048Z"
    }
   },
   "outputs": [
    {
     "name": "stdout",
     "output_type": "stream",
     "text": [
      "[[   1  620    1    1]\n",
      " [   1 3280    4    2]\n",
      " [   1 1900    2    2]\n",
      " [   1 1320    3    3]]\n"
     ]
    }
   ],
   "source": [
    "# Use `numpy.hstack` to create the (4,4) matrix X by concatenating x0 to your previous (4,3) matrix\n",
    "X = np.hstack((x0, X_features))\n",
    "\n",
    "print(X)"
   ]
  },
  {
   "cell_type": "markdown",
   "metadata": {},
   "source": [
    "**🧪 Check your code!**"
   ]
  },
  {
   "cell_type": "code",
   "execution_count": 6,
   "metadata": {
    "execution": {
     "iopub.execute_input": "2025-04-24T09:46:58.047218Z",
     "iopub.status.busy": "2025-04-24T09:46:58.046432Z",
     "iopub.status.idle": "2025-04-24T09:46:58.725655Z",
     "shell.execute_reply": "2025-04-24T09:46:58.724613Z",
     "shell.execute_reply.started": "2025-04-24T09:46:58.047184Z"
    }
   },
   "outputs": [
    {
     "name": "stdout",
     "output_type": "stream",
     "text": [
      "\n",
      "\u001b[1m============================= test session starts ==============================\u001b[0m\n",
      "platform linux -- Python 3.12.9, pytest-8.3.4, pluggy-1.5.0 -- /home/saranjthilak92/.pyenv/versions/3.12.9/envs/lewagon/bin/python\n",
      "cachedir: .pytest_cache\n",
      "rootdir: /home/saranjthilak92/code/saranjthilak/03-Maths/01-Algebra-Calculus/data-real-estate-estimator/tests\n",
      "plugins: typeguard-4.4.2, anyio-4.8.0\n",
      "\u001b[1mcollecting ... \u001b[0mcollected 3 items\n",
      "\n",
      "test_features.py::TestFeatures::test_X_shape \u001b[32mPASSED\u001b[0m\u001b[32m                      [ 33%]\u001b[0m\n",
      "test_features.py::TestFeatures::test_features_order \u001b[32mPASSED\u001b[0m\u001b[32m               [ 66%]\u001b[0m\n",
      "test_features.py::TestFeatures::test_x0_is_ones \u001b[32mPASSED\u001b[0m\u001b[32m                   [100%]\u001b[0m\n",
      "\n",
      "\u001b[32m============================== \u001b[32m\u001b[1m3 passed\u001b[0m\u001b[32m in 0.18s\u001b[0m\u001b[32m ===============================\u001b[0m\n",
      "\n",
      "\n",
      "💯 You can commit your code:\n",
      "\n",
      "\u001b[1;32mgit\u001b[39m add tests/features.pickle\n",
      "\n",
      "\u001b[32mgit\u001b[39m commit -m \u001b[33m'Completed features step'\u001b[39m\n",
      "\n",
      "\u001b[32mgit\u001b[39m push origin master\n",
      "\n"
     ]
    }
   ],
   "source": [
    "from nbresult import ChallengeResult\n",
    "\n",
    "result = ChallengeResult('features',\n",
    "    features=X\n",
    ")\n",
    "result.write()\n",
    "print(result.check())"
   ]
  },
  {
   "cell_type": "markdown",
   "metadata": {},
   "source": [
    "## (2) Define the vector $\\boldsymbol y$ of `Prices`"
   ]
  },
  {
   "attachments": {},
   "cell_type": "markdown",
   "metadata": {},
   "source": [
    "$\\boldsymbol y  = \\begin{bmatrix}\n",
    "    244 \\\\\n",
    "    671 \\\\\n",
    "    504 \\\\\n",
    "    510\n",
    "\\end{bmatrix}$\n",
    "\n",
    "❓ In order to match our matricial representation $\\boldsymbol y  = \\boldsymbol {X\\cdot \\theta}$, what should the shape of $\\boldsymbol y$ be? Define $\\boldsymbol y$ down below. ❓\n",
    "\n",
    "<details>\n",
    "    <summary><i>Hint</i></summary>\n",
    "\n",
    "$\\boldsymbol y$ should be a $(4,1)$ array, equivalent to a flat \"vector\", represented vertically\n",
    "</details>"
   ]
  },
  {
   "cell_type": "code",
   "execution_count": 7,
   "metadata": {
    "execution": {
     "iopub.execute_input": "2025-04-24T09:46:58.726755Z",
     "iopub.status.busy": "2025-04-24T09:46:58.726335Z",
     "iopub.status.idle": "2025-04-24T09:46:58.736275Z",
     "shell.execute_reply": "2025-04-24T09:46:58.734552Z",
     "shell.execute_reply.started": "2025-04-24T09:46:58.726716Z"
    },
    "tags": [
     "challengify"
    ]
   },
   "outputs": [
    {
     "name": "stdout",
     "output_type": "stream",
     "text": [
      "y: [[244]\n",
      " [671]\n",
      " [504]\n",
      " [510]]\n",
      "Shape of y: (4, 1)\n"
     ]
    }
   ],
   "source": [
    "y = np.array([[244], [671], [504], [510]])\n",
    "\n",
    "\n",
    "print(\"y:\", y)\n",
    "print(\"Shape of y:\", y.shape)"
   ]
  },
  {
   "cell_type": "markdown",
   "metadata": {},
   "source": [
    "**🧪 Check your code!**"
   ]
  },
  {
   "cell_type": "code",
   "execution_count": 8,
   "metadata": {
    "execution": {
     "iopub.execute_input": "2025-04-24T09:46:58.739617Z",
     "iopub.status.busy": "2025-04-24T09:46:58.737966Z",
     "iopub.status.idle": "2025-04-24T09:46:59.473465Z",
     "shell.execute_reply": "2025-04-24T09:46:59.472429Z",
     "shell.execute_reply.started": "2025-04-24T09:46:58.739576Z"
    }
   },
   "outputs": [
    {
     "name": "stdout",
     "output_type": "stream",
     "text": [
      "\n",
      "\u001b[1m============================= test session starts ==============================\u001b[0m\n",
      "platform linux -- Python 3.12.9, pytest-8.3.4, pluggy-1.5.0 -- /home/saranjthilak92/.pyenv/versions/3.12.9/envs/lewagon/bin/python\n",
      "cachedir: .pytest_cache\n",
      "rootdir: /home/saranjthilak92/code/saranjthilak/03-Maths/01-Algebra-Calculus/data-real-estate-estimator/tests\n",
      "plugins: typeguard-4.4.2, anyio-4.8.0\n",
      "\u001b[1mcollecting ... \u001b[0mcollected 1 item\n",
      "\n",
      "test_target.py::TestTarget::test_shape \u001b[32mPASSED\u001b[0m\u001b[32m                            [100%]\u001b[0m\n",
      "\n",
      "\u001b[32m============================== \u001b[32m\u001b[1m1 passed\u001b[0m\u001b[32m in 0.20s\u001b[0m\u001b[32m ===============================\u001b[0m\n",
      "\n",
      "\n",
      "💯 You can commit your code:\n",
      "\n",
      "\u001b[1;32mgit\u001b[39m add tests/target.pickle\n",
      "\n",
      "\u001b[32mgit\u001b[39m commit -m \u001b[33m'Completed target step'\u001b[39m\n",
      "\n",
      "\u001b[32mgit\u001b[39m push origin master\n",
      "\n"
     ]
    }
   ],
   "source": [
    "from nbresult import ChallengeResult\n",
    "\n",
    "result = ChallengeResult('target',\n",
    "    target=y\n",
    ")\n",
    "result.write()\n",
    "print(result.check())"
   ]
  },
  {
   "attachments": {},
   "cell_type": "markdown",
   "metadata": {},
   "source": [
    "## (3) Find the solution of the system\n",
    "\n",
    "⏰Now, it's time to find the vector of coefficients $\\boldsymbol \\theta = \\begin{bmatrix}\n",
    "    \\theta_0 \\\\\n",
    "    \\theta_1 \\\\\n",
    "    \\theta_2 \\\\\n",
    "    \\theta_3\n",
    "\\end{bmatrix}$ !\n",
    "\n",
    "👍 The solution of the equation is:\n",
    " \n",
    "$$ \\large \\boldsymbol X \\cdot \\boldsymbol \\theta = \\boldsymbol y \n",
    "\\large \\iff \\boldsymbol X^{-1} \\cdot \\boldsymbol X \\boldsymbol \\cdot \\theta = \\boldsymbol X^{-1} \\cdot \\boldsymbol y \n",
    "\\large \\iff \\boldsymbol \\theta = \\boldsymbol X^{-1} \\cdot \\boldsymbol y\n",
    "$$\n",
    "\n",
    "where $\\large \\boldsymbol X^{-1}$ is the inverse of $\\large \\boldsymbol X$."
   ]
  },
  {
   "cell_type": "code",
   "execution_count": 9,
   "metadata": {
    "execution": {
     "iopub.execute_input": "2025-04-24T09:46:59.475341Z",
     "iopub.status.busy": "2025-04-24T09:46:59.474940Z",
     "iopub.status.idle": "2025-04-24T09:46:59.488179Z",
     "shell.execute_reply": "2025-04-24T09:46:59.486448Z",
     "shell.execute_reply.started": "2025-04-24T09:46:59.475317Z"
    }
   },
   "outputs": [
    {
     "name": "stdout",
     "output_type": "stream",
     "text": [
      "[[ 1.64516129e+00  4.42419702e-17 -2.90322581e-01 -3.54838710e-01]\n",
      " [-5.37634409e-04 -2.50426246e-19  1.07526882e-03 -5.37634409e-04]\n",
      " [ 3.70967742e-01  5.00000000e-01 -1.24193548e+00  3.70967742e-01]\n",
      " [-6.82795699e-01 -5.00000000e-01  8.65591398e-01  3.17204301e-01]]\n"
     ]
    }
   ],
   "source": [
    "# Compute the inverse of the matrix X with the right NumPy method\n",
    "X_inv =np.linalg.inv(X)\n",
    "print(X_inv)"
   ]
  },
  {
   "attachments": {},
   "cell_type": "markdown",
   "metadata": {},
   "source": [
    "👉 You can check that the inversion worked by testing the following equality:\n",
    "\n",
    "$$\\boldsymbol X^{-1} \\cdot\\boldsymbol X = \\boldsymbol I_4$$\n",
    "where $\\boldsymbol I_4$ is the $ 4 \\times 4 $ identity matrix $ \\begin{bmatrix}\n",
    "    1 & 0 & 0 & 0 \\\\\n",
    "    0 & 1 & 0 & 0 \\\\\n",
    "    0 & 0 & 1 & 0 \\\\\n",
    "    0 & 0 & 0 & 1\n",
    "\\end{bmatrix}$"
   ]
  },
  {
   "cell_type": "code",
   "execution_count": 10,
   "metadata": {
    "execution": {
     "iopub.execute_input": "2025-04-24T09:46:59.490395Z",
     "iopub.status.busy": "2025-04-24T09:46:59.489816Z",
     "iopub.status.idle": "2025-04-24T09:46:59.501415Z",
     "shell.execute_reply": "2025-04-24T09:46:59.498865Z",
     "shell.execute_reply.started": "2025-04-24T09:46:59.490357Z"
    }
   },
   "outputs": [
    {
     "name": "stdout",
     "output_type": "stream",
     "text": [
      "[[1. 0. 0. 0.]\n",
      " [0. 1. 0. 0.]\n",
      " [0. 0. 1. 0.]\n",
      " [0. 0. 0. 1.]]\n"
     ]
    }
   ],
   "source": [
    "# Define I4 using the right NumPy method\n",
    "I4 = np.eye(4)\n",
    "print(I4)\n"
   ]
  },
  {
   "cell_type": "markdown",
   "metadata": {},
   "source": [
    "👉 Now compute $\\boldsymbol X^{-1} \\boldsymbol X$:"
   ]
  },
  {
   "cell_type": "code",
   "execution_count": 11,
   "metadata": {
    "execution": {
     "iopub.execute_input": "2025-04-24T09:46:59.503961Z",
     "iopub.status.busy": "2025-04-24T09:46:59.503307Z",
     "iopub.status.idle": "2025-04-24T09:46:59.516323Z",
     "shell.execute_reply": "2025-04-24T09:46:59.513974Z",
     "shell.execute_reply.started": "2025-04-24T09:46:59.503925Z"
    },
    "tags": [
     "challengify"
    ]
   },
   "outputs": [
    {
     "name": "stdout",
     "output_type": "stream",
     "text": [
      "[[ 1.00000000e+00  0.00000000e+00 -1.11022302e-16 -5.55111512e-17]\n",
      " [-2.22044605e-16  1.00000000e+00 -2.22044605e-16  1.11022302e-16]\n",
      " [-4.44089210e-16 -2.22044605e-16  1.00000000e+00 -1.11022302e-16]\n",
      " [ 2.22044605e-16  1.11022302e-16 -3.33066907e-16  1.00000000e+00]]\n"
     ]
    }
   ],
   "source": [
    "result = np.dot(X, X_inv)\n",
    "print(result)"
   ]
  },
  {
   "cell_type": "markdown",
   "metadata": {},
   "source": [
    "❓Does it look like $\\boldsymbol I_4 = $ ❓\n",
    "\n",
    "⛔️ If it doesn't, you probably used the `*` operator to perform the multiplication between $\\boldsymbol X^{-1}$ and $\\boldsymbol X$. Here we want to perform the matrix product. You should find the right Numpy method to do so.\n",
    "\n",
    "✅ If it does, you might have noticed that you do not get exactly zeros and ones in the resulting product. To be sure, you can try the [`numpy.allclose()`](https://numpy.org/doc/stable/reference/generated/numpy.allclose.html?highlight=allclose#numpy.allclose) method to check your result:"
   ]
  },
  {
   "cell_type": "code",
   "execution_count": 12,
   "metadata": {
    "execution": {
     "iopub.execute_input": "2025-04-24T09:46:59.519480Z",
     "iopub.status.busy": "2025-04-24T09:46:59.518677Z",
     "iopub.status.idle": "2025-04-24T09:46:59.528824Z",
     "shell.execute_reply": "2025-04-24T09:46:59.527578Z",
     "shell.execute_reply.started": "2025-04-24T09:46:59.519417Z"
    },
    "tags": [
     "challengify"
    ]
   },
   "outputs": [
    {
     "name": "stdout",
     "output_type": "stream",
     "text": [
      "\n",
      "Is the result close to the identity matrix? True\n"
     ]
    }
   ],
   "source": [
    "is_identity = np.allclose(result, I4)\n",
    "print(\"\\nIs the result close to the identity matrix?\", is_identity)"
   ]
  },
  {
   "attachments": {},
   "cell_type": "markdown",
   "metadata": {},
   "source": [
    "🎉 You are finally able to compute `theta` using the following formula: $ \\large \\boldsymbol \\theta = \\boldsymbol X^{-1}\\cdot \\boldsymbol y $:"
   ]
  },
  {
   "cell_type": "code",
   "execution_count": 13,
   "metadata": {
    "execution": {
     "iopub.execute_input": "2025-04-24T09:46:59.532030Z",
     "iopub.status.busy": "2025-04-24T09:46:59.530559Z",
     "iopub.status.idle": "2025-04-24T09:46:59.541932Z",
     "shell.execute_reply": "2025-04-24T09:46:59.540054Z",
     "shell.execute_reply.started": "2025-04-24T09:46:59.531962Z"
    },
    "tags": [
     "challengify"
    ]
   },
   "outputs": [],
   "source": [
    "theta = np.dot(X_inv, y)"
   ]
  },
  {
   "cell_type": "markdown",
   "metadata": {},
   "source": [
    "**🧪 Check your code!**"
   ]
  },
  {
   "cell_type": "code",
   "execution_count": 14,
   "metadata": {
    "execution": {
     "iopub.execute_input": "2025-04-24T09:46:59.548040Z",
     "iopub.status.busy": "2025-04-24T09:46:59.547063Z",
     "iopub.status.idle": "2025-04-24T09:47:00.282824Z",
     "shell.execute_reply": "2025-04-24T09:47:00.281714Z",
     "shell.execute_reply.started": "2025-04-24T09:46:59.547985Z"
    }
   },
   "outputs": [
    {
     "name": "stdout",
     "output_type": "stream",
     "text": [
      "\n",
      "\u001b[1m============================= test session starts ==============================\u001b[0m\n",
      "platform linux -- Python 3.12.9, pytest-8.3.4, pluggy-1.5.0 -- /home/saranjthilak92/.pyenv/versions/3.12.9/envs/lewagon/bin/python\n",
      "cachedir: .pytest_cache\n",
      "rootdir: /home/saranjthilak92/code/saranjthilak/03-Maths/01-Algebra-Calculus/data-real-estate-estimator/tests\n",
      "plugins: typeguard-4.4.2, anyio-4.8.0\n",
      "\u001b[1mcollecting ... \u001b[0mcollected 2 items\n",
      "\n",
      "test_solution.py::TestSolution::test_theta0_is_correct \u001b[32mPASSED\u001b[0m\u001b[32m            [ 50%]\u001b[0m\n",
      "test_solution.py::TestSolution::test_theta_shape \u001b[32mPASSED\u001b[0m\u001b[32m                  [100%]\u001b[0m\n",
      "\n",
      "\u001b[32m============================== \u001b[32m\u001b[1m2 passed\u001b[0m\u001b[32m in 0.19s\u001b[0m\u001b[32m ===============================\u001b[0m\n",
      "\n",
      "\n",
      "💯 You can commit your code:\n",
      "\n",
      "\u001b[1;32mgit\u001b[39m add tests/solution.pickle\n",
      "\n",
      "\u001b[32mgit\u001b[39m commit -m \u001b[33m'Completed solution step'\u001b[39m\n",
      "\n",
      "\u001b[32mgit\u001b[39m push origin master\n",
      "\n"
     ]
    }
   ],
   "source": [
    "from nbresult import ChallengeResult\n",
    "\n",
    "result = ChallengeResult('solution',\n",
    "    theta=theta\n",
    ")\n",
    "result.write()\n",
    "print(result.check())"
   ]
  },
  {
   "attachments": {},
   "cell_type": "markdown",
   "metadata": {},
   "source": [
    "## (4) Estimation of a new flat price\n",
    "\n",
    "You finally solved the system finding $\\boldsymbol \\theta$ and are now able to estimate the `Price` (in thousands of $) of a 5th flat given these characteristics:\n",
    "\n",
    "- `Surface`: 3000 $ft^2$\n",
    "- `Bedrooms`: 5 \n",
    "- `Floors`: 1\n",
    "\n",
    "with the following formula:\n",
    "\n",
    "$$y_{flat5} = \\boldsymbol x_{flat5} \\cdot \\boldsymbol \\theta$$"
   ]
  },
  {
   "cell_type": "code",
   "execution_count": 19,
   "metadata": {
    "execution": {
     "iopub.execute_input": "2025-04-24T09:58:48.407155Z",
     "iopub.status.busy": "2025-04-24T09:58:48.406068Z",
     "iopub.status.idle": "2025-04-24T09:58:48.416407Z",
     "shell.execute_reply": "2025-04-24T09:58:48.415116Z",
     "shell.execute_reply.started": "2025-04-24T09:58:48.407100Z"
    }
   },
   "outputs": [
    {
     "name": "stdout",
     "output_type": "stream",
     "text": [
      "[526.10752688]\n"
     ]
    }
   ],
   "source": [
    "# Define x5\n",
    "X5 = np.array([1,3000,5,1])\n",
    "\n",
    "# Compute y5\n",
    "y5 = np.dot(X5,theta)\n",
    "print(y5)\n",
    "# You should find a Price of 526,000 $\n"
   ]
  },
  {
   "cell_type": "markdown",
   "metadata": {},
   "source": [
    "## (5) Reality-check"
   ]
  },
  {
   "attachments": {},
   "cell_type": "markdown",
   "metadata": {},
   "source": [
    "❗️ In reality, a flat price is never entirely determined by its surface, number of bedrooms and  the floor number.\n",
    "\n",
    "Let's imagine that we measure the real price $y_{flat5}$ at $700,000$ instead of $526,000$ as predicted. \n",
    "\n",
    "🤨 Could we take this new information into account to improve our model?\n",
    "\n",
    "❓ Update the linear system of equations $ \\large \\boldsymbol X \\cdot \\boldsymbol \\theta = \\boldsymbol y$ to incorporate the information carried out by this new flat."
   ]
  },
  {
   "cell_type": "code",
   "execution_count": 16,
   "metadata": {
    "execution": {
     "iopub.execute_input": "2025-04-24T09:47:00.293601Z",
     "iopub.status.busy": "2025-04-24T09:47:00.293129Z",
     "iopub.status.idle": "2025-04-24T09:47:00.305475Z",
     "shell.execute_reply": "2025-04-24T09:47:00.303766Z",
     "shell.execute_reply.started": "2025-04-24T09:47:00.293567Z"
    }
   },
   "outputs": [],
   "source": [
    "# Create the new matrix of features X of shape (5,4)\n",
    "# Print the shape to double-check the shape is indeed (5,4)\n"
   ]
  },
  {
   "cell_type": "code",
   "execution_count": 17,
   "metadata": {
    "execution": {
     "iopub.execute_input": "2025-04-24T09:47:00.308617Z",
     "iopub.status.busy": "2025-04-24T09:47:00.307561Z",
     "iopub.status.idle": "2025-04-24T09:47:00.322361Z",
     "shell.execute_reply": "2025-04-24T09:47:00.320595Z",
     "shell.execute_reply.started": "2025-04-24T09:47:00.308570Z"
    }
   },
   "outputs": [],
   "source": [
    "# Create new y of shape (5,1)\n"
   ]
  },
  {
   "attachments": {},
   "cell_type": "markdown",
   "metadata": {},
   "source": [
    "👉 Let's try to predict the price of a 6th flat from our updated model.  \n",
    "To do so, try to solve $\\boldsymbol \\theta$ from $\\boldsymbol X \\cdot \\boldsymbol \\theta = \\boldsymbol y$ using [`numpy.linalg.solve`](https://docs.scipy.org/doc/numpy/reference/generated/numpy.linalg.solve.html).\n",
    "\n",
    "😲 What is going on? Try to understand why you get an error. Then, open the explanation below the cell."
   ]
  },
  {
   "cell_type": "code",
   "execution_count": 18,
   "metadata": {
    "execution": {
     "iopub.execute_input": "2025-04-24T09:47:00.325057Z",
     "iopub.status.busy": "2025-04-24T09:47:00.324386Z",
     "iopub.status.idle": "2025-04-24T09:47:00.335091Z",
     "shell.execute_reply": "2025-04-24T09:47:00.333865Z",
     "shell.execute_reply.started": "2025-04-24T09:47:00.325006Z"
    },
    "tags": [
     "challengify"
    ]
   },
   "outputs": [],
   "source": [
    "# YOUR CODE HERE"
   ]
  },
  {
   "attachments": {},
   "cell_type": "markdown",
   "metadata": {},
   "source": [
    "<details>\n",
    "    <summary><i>Explanations</i></summary>\n",
    "\n",
    "$ \\large \\boldsymbol X$ is not a square matrix \n",
    "\n",
    "$ \\large  \\rightarrow$  therefore it cannot be inversible: $ \\large  \\boldsymbol X^{-1}$ does not exist\n",
    " \n",
    "$ \\large  \\rightarrow$ $ \\large \\boldsymbol \\theta$ cannot be computed from $ \\large  \\boldsymbol y = \\boldsymbol X \\cdot \\boldsymbol \\theta$ \n",
    "    \n",
    "😕 Our initial approach, which consists in finding a closed mathematical formula to compute a predicted price of a flat as a linear combination of only 3 features **does not hold true** for our 5 observed flats. \n",
    "\n",
    "😉 ***Trust the process !*** \n",
    "\n",
    "$ \\large  \\rightarrow$ Instead, we will learn in the coming weeks methods to **approximate** a flat price based on these features.\n",
    "\n",
    "For instance, instead of solving $\\large  \\boldsymbol y = \\boldsymbol X \\cdot \\boldsymbol \\theta$ we could find $ \\large  \\hat{\\boldsymbol \\theta}$ that minimizes the error $ \\large \\boldsymbol e = \\boldsymbol X \\cdot \\hat{\\boldsymbol \\theta} - \\boldsymbol y $: This approach is called a **Linear Regression model**\n",
    "\n",
    "This new estimator can then be used to give an **approximate** estimation of the price on any new flats with $ \\large  \\hat y_{flat_6} = \\boldsymbol x_{flat_6} \\cdot \\hat{\\boldsymbol \\theta}$ \n",
    "\n",
    "</details>"
   ]
  },
  {
   "cell_type": "markdown",
   "metadata": {},
   "source": [
    "🏁 Congratulations! \n",
    "\n",
    "💾 Don't forget to commit and push your notebook before moving on to the next challenge! "
   ]
  }
 ],
 "metadata": {
  "kernelspec": {
   "display_name": "Python 3 (ipykernel)",
   "language": "python",
   "name": "python3"
  },
  "language_info": {
   "codemirror_mode": {
    "name": "ipython",
    "version": 3
   },
   "file_extension": ".py",
   "mimetype": "text/x-python",
   "name": "python",
   "nbconvert_exporter": "python",
   "pygments_lexer": "ipython3",
   "version": "3.12.9"
  }
 },
 "nbformat": 4,
 "nbformat_minor": 4
}
